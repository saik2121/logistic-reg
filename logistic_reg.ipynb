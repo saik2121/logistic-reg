{
 "cells": [
  {
   "cell_type": "code",
   "execution_count": 1,
   "metadata": {},
   "outputs": [],
   "source": [
    "import numpy as np\n",
    "import pandas as pd\n",
    "import matplotlib.pyplot as plt "
   ]
  },
  {
   "cell_type": "code",
   "execution_count": 2,
   "metadata": {},
   "outputs": [],
   "source": [
    "X_train=pd.read_csv('./Logistic_X_Train.csv').values\n",
    "Y_train=pd.read_csv('./Logistic_Y_Train.csv').values\n",
    "\n",
    "def hypothesis(x,w,b):\n",
    "    z=np.dot(x,w)+b\n",
    "    return sigmoid(z)\n",
    "\n",
    "def sigmoid(z):\n",
    "    return 1.0/(1.0+np.exp(-1.0*z))\n",
    "\n",
    "def error(y_true,x,w,b):\n",
    "    err=0.0\n",
    "    m=x.shape[0]\n",
    "    for i in range(m):\n",
    "        hx=hypothesis(x[i],w,b)\n",
    "        err+=y_true[i]*np.log2(hx)+(1-y_true[i])*np.log2(1-hx)\n",
    "    \n",
    "    return -err/m\n",
    "\n",
    "def get_grads(y_true,x,w,b):\n",
    "    grad_w=np.zeros(w.shape)\n",
    "    grad_b=0.0\n",
    "    m=x.shape[0]\n",
    "    for i in range(m):\n",
    "        hx=hypothesis(x[i],w,b)\n",
    "        grad_w+=(y_true[i]-hx)*x[i]\n",
    "        grad_b+=(y_true[i]-hx)\n",
    "    \n",
    "    grad_w/=m\n",
    "    grad_b/=m\n",
    "    \n",
    "    return [grad_w,grad_b]\n",
    "\n",
    "def gradient_descent(y_true,x,w,b,learning_rate=0.1):\n",
    "        err=error(y_true,x,w,b)\n",
    "        [grad_w,grad_b]=get_grads(y_true,x,w,b)\n",
    "        w=w+learning_rate*grad_w\n",
    "        b=b+learning_rate*grad_b\n",
    "        return err,w,b\n",
    "def predict(xtest,w,b):\n",
    "    confidence=hypothesis(xtest,w,b)\n",
    "    if confidence<0.5:\n",
    "        return 0\n",
    "    else:\n",
    "        return 1\n",
    "    \n",
    "def accuracy(xtest,ytest,w,b):\n",
    "    y_pred=[]\n",
    "    for i in range(xtest.shape[0]):\n",
    "        y_pred.append(predict(xtest[i],w,b))\n",
    "    y_pred=np.array(y_pred)\n",
    "    return float((ytest==y_pred).sum())/xtest.shape[0]\n",
    "\n",
    "\n",
    "        "
   ]
  },
  {
   "cell_type": "code",
   "execution_count": 3,
   "metadata": {},
   "outputs": [],
   "source": [
    "w=2*np.random.random((X_train.shape[1],))\n",
    "b=5*np.random.random()\n",
    "loss=[]\n",
    "acc=[]\n",
    "for i in range(100):\n",
    "    err,w,b=gradient_descent(Y_train,X_train,w,b,learning_rate=0.5)\n",
    "    acc.append(accuracy(X_train,Y_train,w,b))\n",
    "    loss.append(err)\n",
    "\n"
   ]
  },
  {
   "cell_type": "code",
   "execution_count": 4,
   "metadata": {},
   "outputs": [
    {
     "name": "stdout",
     "output_type": "stream",
     "text": [
      "[array([5.51315464]), array([4.63884452]), array([3.8081915]), array([3.01764019]), array([2.2697652]), array([1.59605394]), array([1.09565474]), array([0.82743457]), array([0.69014521]), array([0.60692758]), array([0.54939299]), array([0.50611938]), array([0.4717134]), array([0.44329014]), array([0.41915552]), array([0.39824097]), array([0.37983329]), array([0.36343429]), array([0.34868263]), array([0.33530791]), array([0.32310235]), array([0.31190265]), array([0.30157795]), array([0.29202163]), array([0.28314554]), array([0.27487588]), array([0.26715014]), array([0.25991491]), array([0.25312407]), array([0.24673758]), array([0.24072034]), array([0.23504147]), array([0.22967361]), array([0.22459239]), array([0.21977602]), array([0.21520492]), array([0.21086146]), array([0.20672966]), array([0.20279504]), array([0.19904439]), array([0.19546568]), array([0.19204787]), array([0.18878086]), array([0.18565536]), array([0.18266279]), array([0.17979526]), array([0.17704545]), array([0.17440661]), array([0.17187245]), array([0.16943715]), array([0.16709529]), array([0.16484182]), array([0.16267203]), array([0.16058153]), array([0.15856622]), array([0.15662226]), array([0.15474605]), array([0.15293423]), array([0.15118363]), array([0.1494913]), array([0.14785443]), array([0.14627042]), array([0.1447368]), array([0.14325124]), array([0.14181155]), array([0.14041568]), array([0.13906167]), array([0.13774769]), array([0.136472]), array([0.13523296]), array([0.134029]), array([0.13285867]), array([0.13172057]), array([0.13061338]), array([0.12953585]), array([0.12848679]), array([0.12746507]), array([0.12646962]), array([0.12549944]), array([0.12455354]), array([0.12363101]), array([0.12273098]), array([0.12185262]), array([0.12099512]), array([0.12015774]), array([0.11933976]), array([0.11854049]), array([0.11775927]), array([0.11699547]), array([0.11624851]), array([0.11551781]), array([0.11480282]), array([0.11410302]), array([0.11341792]), array([0.11274703]), array([0.11208991]), array([0.1114461]), array([0.1108152]), array([0.11019679]), array([0.1095905])]\n",
      "[1491.492, 1491.168, 1491.018, 1491.0, 1491.0, 1491.636, 1494.144, 1495.662, 1496.388, 1496.862, 1497.24, 1497.522, 1497.69, 1497.834, 1497.99, 1498.116, 1498.23, 1498.35, 1498.452, 1498.5, 1498.596, 1498.668, 1498.752, 1498.824, 1498.866, 1498.908, 1498.938, 1498.95, 1498.992, 1499.028, 1499.076, 1499.118, 1499.148, 1499.202, 1499.232, 1499.25, 1499.274, 1499.298, 1499.334, 1499.352, 1499.364, 1499.394, 1499.412, 1499.442, 1499.454, 1499.478, 1499.49, 1499.496, 1499.496, 1499.502, 1499.514, 1499.526, 1499.532, 1499.55, 1499.556, 1499.568, 1499.592, 1499.61, 1499.616, 1499.64, 1499.64, 1499.64, 1499.64, 1499.64, 1499.64, 1499.652, 1499.652, 1499.658, 1499.664, 1499.67, 1499.676, 1499.676, 1499.682, 1499.688, 1499.688, 1499.694, 1499.706, 1499.706, 1499.712, 1499.724, 1499.724, 1499.724, 1499.73, 1499.73, 1499.73, 1499.73, 1499.742, 1499.742, 1499.742, 1499.748, 1499.748, 1499.748, 1499.766, 1499.766, 1499.766, 1499.766, 1499.772, 1499.772, 1499.772, 1499.772]\n"
     ]
    }
   ],
   "source": [
    "print(loss)\n",
    "print(acc)"
   ]
  },
  {
   "cell_type": "code",
   "execution_count": 5,
   "metadata": {},
   "outputs": [
    {
     "data": {
      "image/png": "[encoded data removed]",
      "text/plain": [
       "<Figure size 576x396 with 1 Axes>"
      ]
     },
     "metadata": {},
     "output_type": "display_data"
    }
   ],
   "source": [
    "plt.style.use('seaborn')\n",
    "plt.plot(loss)\n",
    "plt.show()"
   ]
  },
  {
   "cell_type": "code",
   "execution_count": 6,
   "metadata": {},
   "outputs": [],
   "source": [
    "X_test=pd.read_csv('./Logistic_X_Test.csv').values\n",
    "Y_test=hypothesis(X_test,w,b)\n",
    "for i in range(Y_test.shape[0]):\n",
    "    if(Y_test[i]>0.5):\n",
    "        Y_test[i]=1\n",
    "    else:\n",
    "        Y_test[i]=0\n",
    "df=pd.DataFrame(data=Y_test,columns=[\"label\"])\n",
    "df.to_csv('y_logistic_pred.csv',index=False)"
   ]
  },
  {
   "cell_type": "code",
   "execution_count": 7,
   "metadata": {},
   "outputs": [
    {
     "name": "stdout",
     "output_type": "stream",
     "text": [
      "[-1.82878561  0.92820568 -2.15477489]\n"
     ]
    }
   ],
   "source": [
    "print(w)"
   ]
  },
  {
   "cell_type": "code",
   "execution_count": 8,
   "metadata": {},
   "outputs": [
    {
     "name": "stdout",
     "output_type": "stream",
     "text": [
      "(3000, 3)\n"
     ]
    }
   ],
   "source": [
    "print(X_train.shape)"
   ]
  },
  {
   "cell_type": "code",
   "execution_count": null,
   "metadata": {},
   "outputs": [],
   "source": []
  }
 ],
 "metadata": {
  "kernelspec": {
   "display_name": "Python 3",
   "language": "python",
   "name": "python3"
  },
  "language_info": {
   "codemirror_mode": {
    "name": "ipython",
    "version": 3
   },
   "file_extension": ".py",
   "mimetype": "text/x-python",
   "name": "python",
   "nbconvert_exporter": "python",
   "pygments_lexer": "ipython3",
   "version": "3.7.4"
  }
 },
 "nbformat": 4,
 "nbformat_minor": 2
}
